{
  "nbformat": 4,
  "nbformat_minor": 0,
  "metadata": {
    "colab": {
      "provenance": []
    },
    "kernelspec": {
      "name": "python3",
      "display_name": "Python 3"
    },
    "language_info": {
      "name": "python"
    }
  },
  "cells": [
    {
      "cell_type": "code",
      "execution_count": 1,
      "metadata": {
        "colab": {
          "base_uri": "https://localhost:8080/"
        },
        "id": "hOjRASidUHr8",
        "outputId": "9caee9b2-a748-4263-ebf3-9669532a2ad0"
      },
      "outputs": [
        {
          "output_type": "stream",
          "name": "stdout",
          "text": [
            "Hello World!\n"
          ]
        }
      ],
      "source": [
        "print(\"Hello World!\")"
      ]
    },
    {
      "cell_type": "code",
      "source": [
        "x = \"Hello Python!\"\n",
        "print(x)\n",
        "y = 42\n",
        "print(y)"
      ],
      "metadata": {
        "colab": {
          "base_uri": "https://localhost:8080/"
        },
        "id": "RUlHPFYwUQff",
        "outputId": "10ae1fad-5a32-4f84-e278-41d83c3f3fc5"
      },
      "execution_count": 2,
      "outputs": [
        {
          "output_type": "stream",
          "name": "stdout",
          "text": [
            "Hello Python!\n",
            "42\n"
          ]
        }
      ]
    },
    {
      "cell_type": "code",
      "source": [
        "print(\"Hello World\")\n",
        "\n",
        "name = \"Noelle\"\n",
        "print(\"Hello\" + name)\n",
        "\n",
        "my_name = \"Shreyas Sriram\"\n",
        "print(\"Hello\" + my_name)\n",
        "\n",
        "fave_food1 = \"Chipotle\"\n",
        "fave_food2 = \"Qdoba\" \n",
        "print (\"I love to eat \" + fave_food1 + \" and \" + fave_food2 + \".\")"
      ],
      "metadata": {
        "colab": {
          "base_uri": "https://localhost:8080/"
        },
        "id": "w0IkY9IxUcZZ",
        "outputId": "82b42d78-c6c9-424c-8c99-b01598e054f8"
      },
      "execution_count": 4,
      "outputs": [
        {
          "output_type": "stream",
          "name": "stdout",
          "text": [
            "Hello World\n",
            "HelloNoelle\n",
            "HelloShreyas Sriram\n",
            "I love to eat Chipotle and Qdoba.\n"
          ]
        }
      ]
    },
    {
      "cell_type": "code",
      "source": [],
      "metadata": {
        "id": "K7cZVVW8U0lI"
      },
      "execution_count": null,
      "outputs": []
    }
  ]
}